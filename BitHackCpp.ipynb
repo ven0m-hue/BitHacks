{
 "cells": [
  {
   "cell_type": "markdown",
   "id": "9982a4ec",
   "metadata": {},
   "source": [
    "# Bit Hacks from Basic to Advanced "
   ]
  },
  {
   "cell_type": "code",
   "execution_count": 108,
   "id": "50ea65f4",
   "metadata": {},
   "outputs": [],
   "source": [
    "//Necessary inits\n",
    "#include <iostream>\n",
    "#include <bitset>\n",
    "#include <stdbool.h>\n",
    "using namespace std;\n",
    "\n",
    "#define CHAR_BIT 8\n",
    "//Sample Input \n",
    "int x = 0b1001011011010110;\n",
    "int k = 8;"
   ]
  },
  {
   "cell_type": "markdown",
   "id": "9cfa2e20",
   "metadata": {},
   "source": [
    "## 1.Set, Reset and Toggle the kth posistion bit"
   ]
  },
  {
   "cell_type": "code",
   "execution_count": 109,
   "id": "38ba12b7",
   "metadata": {},
   "outputs": [
    {
     "name": "stdout",
     "output_type": "stream",
     "text": [
      "1001011011010110\n",
      "1001011111010110"
     ]
    }
   ],
   "source": [
    "int res = x | (1 << k);\n",
    "cout << std::bitset<16>(x) << endl;\n",
    "cout << std::bitset<16>(res);"
   ]
  },
  {
   "cell_type": "code",
   "execution_count": 110,
   "id": "28f8aab3",
   "metadata": {},
   "outputs": [
    {
     "name": "stdout",
     "output_type": "stream",
     "text": [
      "1001011011010110\n",
      "1001011011010110"
     ]
    }
   ],
   "source": [
    "int res = x & ~(1 << k);\n",
    "cout << std::bitset<16>(x) << endl;\n",
    "cout << std::bitset<16>(res);"
   ]
  },
  {
   "cell_type": "code",
   "execution_count": 111,
   "id": "954b06d5",
   "metadata": {},
   "outputs": [
    {
     "name": "stdout",
     "output_type": "stream",
     "text": [
      "1001011011010110\n",
      "1001011111010110"
     ]
    }
   ],
   "source": [
    "int res = x ^ (1 << k);\n",
    "cout << std::bitset<16>(x) << endl;\n",
    "cout << std::bitset<16>(res);"
   ]
  },
  {
   "cell_type": "markdown",
   "id": "8f6b0a5c",
   "metadata": {},
   "source": [
    "## 2.Find If the Sign or Get the Sign"
   ]
  },
  {
   "cell_type": "code",
   "execution_count": 112,
   "id": "87cc5d03",
   "metadata": {},
   "outputs": [
    {
     "name": "stdout",
     "output_type": "stream",
     "text": [
      "1\n"
     ]
    }
   ],
   "source": [
    "//input\n",
    "int var = -156;\n",
    "//if the sign neg or not\n",
    "bool sign = 1 & var >> (sizeof(int) * CHAR_BIT - 1);\n",
    "cout << sign << endl;"
   ]
  },
  {
   "cell_type": "code",
   "execution_count": 113,
   "id": "094b0c6a",
   "metadata": {},
   "outputs": [
    {
     "name": "stdout",
     "output_type": "stream",
     "text": [
      "-1\n"
     ]
    }
   ],
   "source": [
    "//input\n",
    "int var = -156;\n",
    "//Get the sign -1 if neg +1 if pos\n",
    "int sign = +1 | (var >> (sizeof(int) * CHAR_BIT - 1));\n",
    "cout << sign << endl;"
   ]
  },
  {
   "cell_type": "markdown",
   "id": "26d195a6",
   "metadata": {},
   "source": [
    "## 3.Find Min/Max without branching "
   ]
  },
  {
   "cell_type": "code",
   "execution_count": 114,
   "id": "69b8f69a",
   "metadata": {},
   "outputs": [
    {
     "name": "stdout",
     "output_type": "stream",
     "text": [
      "min:20 max:100\n"
     ]
    }
   ],
   "source": [
    "int x = 100, y = 20;\n",
    "\n",
    "int min = y ^ ((x ^ y) & - (x < y)); \n",
    "int max = y ^ ((x ^ y) & - (x > y));\n",
    "\n",
    "cout << \"min:\" << min << \" max:\" << max << endl;"
   ]
  },
  {
   "cell_type": "markdown",
   "id": "d9e6054e",
   "metadata": {},
   "source": [
    "## 4.Least Significant Set Bit "
   ]
  },
  {
   "cell_type": "markdown",
   "id": "6c399658",
   "metadata": {},
   "source": [
    "###### Note: x + ~x = -1 \n",
    "###### => -x = ~x + 1 (two's complement).\n",
    "###### Therefore a negative number N is stored in the 2's complement of the abs(N)."
   ]
  },
  {
   "cell_type": "code",
   "execution_count": 115,
   "id": "d7d1545d",
   "metadata": {},
   "outputs": [
    {
     "name": "stdout",
     "output_type": "stream",
     "text": [
      "8\n"
     ]
    }
   ],
   "source": [
    "//Using the above notion\n",
    "//Least significatn set bit is \n",
    "int x = 0b1000001000;\n",
    "int result = x & (-x);\n",
    "    \n",
    "cout << result << endl;"
   ]
  },
  {
   "cell_type": "markdown",
   "id": "94d18d7c",
   "metadata": {},
   "source": [
    "## 5.Extract, Re-Set and Set Bit fileds (4bits) at Pos k-bitshift"
   ]
  },
  {
   "cell_type": "code",
   "execution_count": 116,
   "id": "19629f82",
   "metadata": {},
   "outputs": [
    {
     "name": "stdout",
     "output_type": "stream",
     "text": [
      "1001011011011010\n",
      "0000011110000000\n",
      "0000000000001101\n"
     ]
    }
   ],
   "source": [
    "//Extract\n",
    "int k = 7;\n",
    "int x = 0b1001011011011010;\n",
    "//Lets develop a mask\n",
    "int mask = 0 | (0xf << k); \n",
    "int result = (x & mask) >> k;\n",
    "\n",
    "//Checks\n",
    "\n",
    "cout << std::bitset<16>(x) << endl;\n",
    "cout << std::bitset<16>(mask) << endl;\n",
    "cout << std::bitset<16>(result) << endl;\n"
   ]
  },
  {
   "cell_type": "code",
   "execution_count": 117,
   "id": "e2d814fb",
   "metadata": {},
   "outputs": [
    {
     "name": "stdout",
     "output_type": "stream",
     "text": [
      "1001011011011010\n",
      "1111100001111111\n",
      "1001000001011010\n"
     ]
    }
   ],
   "source": [
    "//Re-Set\n",
    "int k = 7;\n",
    "int x = 0b1001011011011010;\n",
    "//Lets develop a mask\n",
    "int mask = 0 | (0xf << k); \n",
    "int result = (x & ~mask);\n",
    "\n",
    "//Checks\n",
    "\n",
    "cout << std::bitset<16>(x) << endl;\n",
    "cout << std::bitset<16>(~mask) << endl;\n",
    "cout << std::bitset<16>(result) << endl;\n"
   ]
  },
  {
   "cell_type": "code",
   "execution_count": 118,
   "id": "6eea7306",
   "metadata": {},
   "outputs": [
    {
     "name": "stdout",
     "output_type": "stream",
     "text": [
      "1001011011011010\n",
      "1111100001111111\n",
      "1001010101011010\n"
     ]
    }
   ],
   "source": [
    "//Set\n",
    "int k = 7;\n",
    "int x = 0b1001011011011010;\n",
    "int SetValue = 0b1010;\n",
    "//Lets develop a mask\n",
    "int mask = 0 | (0xf << k); \n",
    "int result = (x & ~mask) | ((SetValue << k) & mask);\n",
    "\n",
    "//Checks\n",
    "\n",
    "cout << std::bitset<16>(x) << endl;\n",
    "cout << std::bitset<16>(~mask) << endl;\n",
    "cout << std::bitset<16>(result) << endl;\n"
   ]
  },
  {
   "cell_type": "code",
   "execution_count": null,
   "id": "4af6f6d5",
   "metadata": {},
   "outputs": [],
   "source": []
  }
 ],
 "metadata": {
  "kernelspec": {
   "display_name": "C++14",
   "language": "C++14",
   "name": "xcpp14"
  },
  "language_info": {
   "codemirror_mode": "text/x-c++src",
   "file_extension": ".cpp",
   "mimetype": "text/x-c++src",
   "name": "c++",
   "version": "14"
  }
 },
 "nbformat": 4,
 "nbformat_minor": 5
}
